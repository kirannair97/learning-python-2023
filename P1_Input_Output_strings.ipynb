{
  "nbformat": 4,
  "nbformat_minor": 0,
  "metadata": {
    "colab": {
      "provenance": [],
      "authorship_tag": "ABX9TyPQ0QHrW/knYC34toqkmIa/",
      "include_colab_link": true
    },
    "kernelspec": {
      "name": "python3",
      "display_name": "Python 3"
    },
    "language_info": {
      "name": "python"
    }
  },
  "cells": [
    {
      "cell_type": "markdown",
      "metadata": {
        "id": "view-in-github",
        "colab_type": "text"
      },
      "source": [
        "<a href=\"https://colab.research.google.com/github/kirannair97/learning-python-2023/blob/main/P1_Input_Output_strings.ipynb\" target=\"_parent\"><img src=\"https://colab.research.google.com/assets/colab-badge.svg\" alt=\"Open In Colab\"/></a>"
      ]
    },
    {
      "cell_type": "markdown",
      "source": [
        "# Project: Input & Output Strings"
      ],
      "metadata": {
        "id": "xD-jEbvn0kGX"
      }
    },
    {
      "cell_type": "markdown",
      "source": [
        "## Goal\n",
        "1. Execute your first program."
      ],
      "metadata": {
        "id": "y2Y640J61nik"
      }
    },
    {
      "cell_type": "markdown",
      "source": [
        "## Description\n",
        "\n",
        "* The project is in 3 steps"
      ],
      "metadata": {
        "id": "k7LXul_D2EW_"
      }
    },
    {
      "cell_type": "markdown",
      "source": [
        "## Step-1\n",
        "* Make your first print \"Hello, World!\" program\n",
        "* Execute the cell"
      ],
      "metadata": {
        "id": "TXvd9Yhu2vJs"
      }
    },
    {
      "cell_type": "code",
      "source": [
        "print(\"Hello, World!\")"
      ],
      "metadata": {
        "colab": {
          "base_uri": "https://localhost:8080/"
        },
        "id": "2LedQOgv447a",
        "outputId": "04f6d8c1-511e-42b0-a6bd-073858ae94e6"
      },
      "execution_count": null,
      "outputs": [
        {
          "output_type": "stream",
          "name": "stdout",
          "text": [
            "Hello, World!\n"
          ]
        }
      ]
    },
    {
      "cell_type": "markdown",
      "source": [
        "## Step-2\n",
        "* Use Input to get the name from the user\n",
        "* Print Hello and the name of the user"
      ],
      "metadata": {
        "id": "J_zVgCqD5Uyd"
      }
    },
    {
      "cell_type": "code",
      "source": [
        "name = input(\"What is your name? \")\n",
        "print(\"Hello\", name)"
      ],
      "metadata": {
        "colab": {
          "base_uri": "https://localhost:8080/"
        },
        "id": "Mn7_mEeD6XpT",
        "outputId": "a6270ee8-12de-4c03-a950-695cb466dc4c"
      },
      "execution_count": null,
      "outputs": [
        {
          "output_type": "stream",
          "name": "stdout",
          "text": [
            "What is your name? Kiran\n",
            "Hello Kiran\n"
          ]
        }
      ]
    },
    {
      "cell_type": "markdown",
      "source": [
        "## Step-3\n",
        "* Use Input to get the name from the user\n",
        "* Print I LIKE CAPITAL LETTERS and the name capitalized using **.upper()**"
      ],
      "metadata": {
        "id": "jcK8OxB088T-"
      }
    },
    {
      "cell_type": "code",
      "source": [
        "name = input(\"What is your name? \")\n",
        "print(\"I LIKE CAPITAL LETTERS\", name.upper())"
      ],
      "metadata": {
        "colab": {
          "base_uri": "https://localhost:8080/"
        },
        "id": "CxQUI7dK9PD5",
        "outputId": "5e78a531-0013-4bde-d2d3-220b90c6e8cd"
      },
      "execution_count": null,
      "outputs": [
        {
          "output_type": "stream",
          "name": "stdout",
          "text": [
            "What is your name? Kiran\n",
            "I LIKE CAPITAL LETTERS KIRAN\n"
          ]
        }
      ]
    }
  ]
}