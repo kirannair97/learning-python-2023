{
  "nbformat": 4,
  "nbformat_minor": 0,
  "metadata": {
    "colab": {
      "provenance": [],
      "authorship_tag": "ABX9TyMldPsaEXI9992PHBkfGQpv",
      "include_colab_link": true
    },
    "kernelspec": {
      "name": "python3",
      "display_name": "Python 3"
    },
    "language_info": {
      "name": "python"
    }
  },
  "cells": [
    {
      "cell_type": "markdown",
      "metadata": {
        "id": "view-in-github",
        "colab_type": "text"
      },
      "source": [
        "<a href=\"https://colab.research.google.com/github/kirannair97/learning-python-2023/blob/main/P7_Hangman_Game.ipynb\" target=\"_parent\"><img src=\"https://colab.research.google.com/assets/colab-badge.svg\" alt=\"Open In Colab\"/></a>"
      ]
    },
    {
      "cell_type": "markdown",
      "source": [
        "# Project: Hangman Game"
      ],
      "metadata": {
        "id": "iqMm9SfNbDvJ"
      }
    },
    {
      "cell_type": "markdown",
      "source": [
        "## Goal\n",
        "\n",
        "1.   Create a [Hangman Game](https://en.wikipedia.org/wiki/Hangman_(game))"
      ],
      "metadata": {
        "id": "nnK5UBA1bep3"
      }
    },
    {
      "cell_type": "markdown",
      "source": [
        "## Description\n",
        "- The game is as follows.\n",
        "- Computer has a list of words.\n",
        "- Computer chooses a random word from the list.\n",
        "- The player gets 10 turns to get the right answer.\n",
        "- The game follows the follwing loop:\n",
        "    - Computer prints the word character by character replacing with underscore those not guessed yet (initial no characters has been guessed).\n",
        "    - Player guesses a character.\n",
        "    - If character is not in word, a turn is withdrawn\n",
        "    - If no turns left, computer wins.\n",
        "    - If player has guessed all characters, player wins\n",
        "- An initial word list could be: ['father', 'enterprise', 'science', 'programming', 'resistance', 'fiction', 'condition', 'reverse', 'computer', 'python']"
      ],
      "metadata": {
        "id": "Lk7T19Ipb2Jr"
      }
    },
    {
      "cell_type": "code",
      "source": [
        "import random"
      ],
      "metadata": {
        "id": "GSIxFkHBc37r"
      },
      "execution_count": null,
      "outputs": []
    },
    {
      "cell_type": "code",
      "source": [
        "words = ['father', 'enterprise', 'science', 'programming', 'resistance', 'fiction', 'condition', 'reverse', 'computer', 'python']\n",
        "word = random.choice(words)\n",
        "\n",
        "guesses = ''\n",
        "turns = 10\n",
        "while turns > 0:\n",
        "  print(f'You have {turns} turns left')\n",
        "\n",
        "  guessed_all = True\n",
        "\n",
        "  for i in word:\n",
        "    if i in guesses:\n",
        "      print(i)\n",
        "    else:\n",
        "      print('_', end = ' ')\n",
        "      guessed_all = False\n",
        "  print()\n",
        "\n",
        "  if not guessed_all:\n",
        "    guess = input('Guess a char: ')\n",
        "    guesses = guesses + guess\n",
        "    if guess not in word:\n",
        "      turns = turns - 1\n",
        "    if turns == 0:\n",
        "      print(f\"You Lose!, the right word is {word} \")\n",
        "  else:\n",
        "    turns = 0\n",
        "    print(\"That's Correct, You Win!\")"
      ],
      "metadata": {
        "colab": {
          "base_uri": "https://localhost:8080/"
        },
        "id": "Hipa2sONctc0",
        "outputId": "b1384154-86bb-4c06-f7ea-81d151ec4e7c"
      },
      "execution_count": null,
      "outputs": [
        {
          "output_type": "stream",
          "name": "stdout",
          "text": [
            "You have 10 turns left\n",
            "_ _ _ _ _ _ _ _ _ \n",
            "Guess a char: r\n",
            "You have 9 turns left\n",
            "_ _ _ _ _ _ _ _ _ \n",
            "Guess a char: c\n",
            "You have 9 turns left\n",
            "c\n",
            "_ _ _ _ _ _ _ _ \n",
            "Guess a char: o\n",
            "You have 9 turns left\n",
            "c\n",
            "o\n",
            "_ _ _ _ _ o\n",
            "_ \n",
            "Guess a char: n\n",
            "You have 9 turns left\n",
            "c\n",
            "o\n",
            "n\n",
            "_ _ _ _ o\n",
            "n\n",
            "\n",
            "Guess a char: d\n",
            "You have 9 turns left\n",
            "c\n",
            "o\n",
            "n\n",
            "d\n",
            "_ _ _ o\n",
            "n\n",
            "\n",
            "Guess a char: i\n",
            "You have 9 turns left\n",
            "c\n",
            "o\n",
            "n\n",
            "d\n",
            "i\n",
            "_ i\n",
            "o\n",
            "n\n",
            "\n",
            "Guess a char: t\n",
            "You have 9 turns left\n",
            "c\n",
            "o\n",
            "n\n",
            "d\n",
            "i\n",
            "t\n",
            "i\n",
            "o\n",
            "n\n",
            "\n",
            "That's Correct, You Win!\n"
          ]
        }
      ]
    }
  ]
}