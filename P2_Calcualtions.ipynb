{
  "nbformat": 4,
  "nbformat_minor": 0,
  "metadata": {
    "colab": {
      "provenance": [],
      "authorship_tag": "ABX9TyNZcd7MGCAU00OckivGfFEk",
      "include_colab_link": true
    },
    "kernelspec": {
      "name": "python3",
      "display_name": "Python 3"
    },
    "language_info": {
      "name": "python"
    }
  },
  "cells": [
    {
      "cell_type": "markdown",
      "metadata": {
        "id": "view-in-github",
        "colab_type": "text"
      },
      "source": [
        "<a href=\"https://colab.research.google.com/github/kirannair97/learning-python-2023/blob/main/P2_Calcualtions.ipynb\" target=\"_parent\"><img src=\"https://colab.research.google.com/assets/colab-badge.svg\" alt=\"Open In Colab\"/></a>"
      ]
    },
    {
      "cell_type": "markdown",
      "source": [
        "# Project: Calculations"
      ],
      "metadata": {
        "id": "wSh8NgrS9b02"
      }
    },
    {
      "cell_type": "markdown",
      "source": [
        "## Goal\n",
        "\n",
        "1.   Use the Notebook as a calculator\n",
        "2.   Understand how cells keep track of them\n",
        "\n"
      ],
      "metadata": {
        "id": "a7mUGBSi9vUT"
      }
    },
    {
      "cell_type": "markdown",
      "source": [
        "## Description\n",
        "\n",
        "*   Create formulas\n",
        "*   Have some fun performing basic math operations\n",
        "\n"
      ],
      "metadata": {
        "id": "Fb-k5mgA-H7h"
      }
    },
    {
      "cell_type": "markdown",
      "source": [
        "## Step 1\n",
        "*   Convert from **kg** to **lbs**\n",
        "*   Use the formula **lbs** = **kg** x 2.2046\n",
        "*   Make the cell to use variable\n",
        "\n"
      ],
      "metadata": {
        "id": "TUuHhJJV-fES"
      }
    },
    {
      "cell_type": "code",
      "source": [
        "kg = 2\n",
        "lbs = kg * 2.2046\n",
        "lbs"
      ],
      "metadata": {
        "colab": {
          "base_uri": "https://localhost:8080/"
        },
        "id": "EIauonMr_jpw",
        "outputId": "81206782-8f6f-4a4d-9f3d-4cc7a19103ec"
      },
      "execution_count": null,
      "outputs": [
        {
          "output_type": "execute_result",
          "data": {
            "text/plain": [
              "4.4092"
            ]
          },
          "metadata": {},
          "execution_count": 1
        }
      ]
    },
    {
      "cell_type": "markdown",
      "source": [
        "## Step 2\n",
        "\n",
        "*   Calculate the circumference of a circle\n",
        "*   The cell should define the radius\n",
        "*   Use the formula C = 2 X π X r\n",
        "*   Define π = 3.14 (Use variable name **pi**)\n",
        "*   Let the cell return the circumference"
      ],
      "metadata": {
        "id": "Av3yeXrGA_KU"
      }
    },
    {
      "cell_type": "code",
      "source": [
        "r = 4\n",
        "pi = 3.14\n",
        "C = 2 * pi * r\n",
        "C"
      ],
      "metadata": {
        "colab": {
          "base_uri": "https://localhost:8080/"
        },
        "id": "PZoy57bQCfVy",
        "outputId": "5c0e8440-6586-46a1-9791-588e88ba9ceb"
      },
      "execution_count": null,
      "outputs": [
        {
          "output_type": "execute_result",
          "data": {
            "text/plain": [
              "25.12"
            ]
          },
          "metadata": {},
          "execution_count": 2
        }
      ]
    },
    {
      "cell_type": "markdown",
      "source": [
        "### Step 3\n",
        "1. Assign a variable to any number (integer).\n",
        "2. Multiply the number by 3.\n",
        "3. Add 6 to the result from bullet 2.\n",
        "4. Divide this number by 3.\n",
        "5. Subtract the number from bullet 1 from the answer in bullet 4.\n",
        "6. The answer is 2."
      ],
      "metadata": {
        "id": "67LsC2EkBqFS"
      }
    },
    {
      "cell_type": "code",
      "source": [
        "num = 10\n",
        "num1 = num * 3\n",
        "num2 = num1 + 6\n",
        "num3 = num2 // 3\n",
        "num4 = num3 - num\n",
        "num4"
      ],
      "metadata": {
        "colab": {
          "base_uri": "https://localhost:8080/"
        },
        "id": "JVj5X4prDexE",
        "outputId": "5d822e82-ec65-40e7-bdb8-3ab87c400aa7"
      },
      "execution_count": null,
      "outputs": [
        {
          "output_type": "execute_result",
          "data": {
            "text/plain": [
              "2"
            ]
          },
          "metadata": {},
          "execution_count": 11
        }
      ]
    }
  ]
}