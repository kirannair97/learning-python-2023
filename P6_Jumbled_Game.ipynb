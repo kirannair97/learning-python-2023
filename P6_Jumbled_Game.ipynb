{
  "nbformat": 4,
  "nbformat_minor": 0,
  "metadata": {
    "colab": {
      "provenance": [],
      "authorship_tag": "ABX9TyPSjBUMmiFweJx5dw6fM8xS",
      "include_colab_link": true
    },
    "kernelspec": {
      "name": "python3",
      "display_name": "Python 3"
    },
    "language_info": {
      "name": "python"
    }
  },
  "cells": [
    {
      "cell_type": "markdown",
      "metadata": {
        "id": "view-in-github",
        "colab_type": "text"
      },
      "source": [
        "<a href=\"https://colab.research.google.com/github/kirannair97/learning-python-2023/blob/main/P6_Jumbled_Game.ipynb\" target=\"_parent\"><img src=\"https://colab.research.google.com/assets/colab-badge.svg\" alt=\"Open In Colab\"/></a>"
      ]
    },
    {
      "cell_type": "markdown",
      "source": [
        "# Project: Jumbled Game"
      ],
      "metadata": {
        "id": "jmQQzmPUpzxC"
      }
    },
    {
      "cell_type": "markdown",
      "source": [
        "## Goal\n",
        "1.   Implement the [Jumbled Game](https://en.wikipedia.org/wiki/Jumble)"
      ],
      "metadata": {
        "id": "KmXz9c_jp4E-"
      }
    },
    {
      "cell_type": "markdown",
      "source": [
        "### Description\n",
        "- A word jumble is a word puzzle game that presents the player with a bunch of mixed up letters and requires them to unscramble the letters to find the hidden word.\n",
        "- The computer will take word and jumble it (mix up the letters).\n",
        "- Then the player will guess what the word is\n",
        "- An initial word list could be: ['father', 'enterprise', 'science', 'programming', 'resistance', 'fiction', 'condition', 'reverse', 'computer', 'python']"
      ],
      "metadata": {
        "id": "4ZuPjqFJqILF"
      }
    },
    {
      "cell_type": "code",
      "source": [
        "import random"
      ],
      "metadata": {
        "id": "pWwTBpnTsEX_"
      },
      "execution_count": null,
      "outputs": []
    },
    {
      "cell_type": "code",
      "source": [
        "word_list = ['father', 'enterprise', 'science', 'programming', 'resistance', 'fiction', 'condition', 'reverse', 'computer', 'python']\n",
        "\n",
        "Word = random.choice(word_list)\n",
        "\n",
        "Jumbled_Word = \"\".join(random.sample(Word, len(Word)))\n",
        "\n",
        "print(f\"Your word: {Jumbled_Word}\")\n",
        "\n",
        "Guess = input(f\"Enter the correct word: \")\n",
        "\n",
        "if Guess == Word:\n",
        "  print(\"Correct Answer!\")\n",
        "else:\n",
        "  print(f\"Sorry, It's incorrect answer, right answer is {Word}\")"
      ],
      "metadata": {
        "colab": {
          "base_uri": "https://localhost:8080/"
        },
        "id": "90LD6j5GqMjP",
        "outputId": "8b27914b-f6ad-41fb-97c8-8d2350d5131c"
      },
      "execution_count": null,
      "outputs": [
        {
          "output_type": "stream",
          "name": "stdout",
          "text": [
            "Your word: ofcitni\n",
            "Enter the correct word: office\n",
            "Sorry, It's incorrect answer, right answer is fiction\n"
          ]
        }
      ]
    }
  ]
}