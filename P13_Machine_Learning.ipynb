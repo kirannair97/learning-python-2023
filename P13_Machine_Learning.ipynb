{
  "nbformat": 4,
  "nbformat_minor": 0,
  "metadata": {
    "colab": {
      "provenance": [],
      "authorship_tag": "ABX9TyM46MLjLztizeTixYtbUqJE",
      "include_colab_link": true
    },
    "kernelspec": {
      "name": "python3",
      "display_name": "Python 3"
    },
    "language_info": {
      "name": "python"
    }
  },
  "cells": [
    {
      "cell_type": "markdown",
      "metadata": {
        "id": "view-in-github",
        "colab_type": "text"
      },
      "source": [
        "<a href=\"https://colab.research.google.com/github/kirannair97/learning-python-2023/blob/main/P13_Machine_Learning.ipynb\" target=\"_parent\"><img src=\"https://colab.research.google.com/assets/colab-badge.svg\" alt=\"Open In Colab\"/></a>"
      ]
    },
    {
      "cell_type": "markdown",
      "source": [
        "# Project - Machine Learning"
      ],
      "metadata": {
        "id": "s2KGsZK6I11H"
      }
    },
    {
      "cell_type": "markdown",
      "source": [
        "## Goal:\n",
        "1.   Implement a Linear Regression Model."
      ],
      "metadata": {
        "id": "LVpSzlyBJCuo"
      }
    },
    {
      "cell_type": "markdown",
      "source": [
        "## Description\n",
        "- import numpy as np and import csv\n",
        "- from sklearn.linear_model import LinearRegression\n",
        "- import matplotlib.pyplot as plt with %matplotlib inline\n",
        "- Read the CSV file files/cars.csv as a list of dictionaries\n",
        "- Use list comprehension to get Horsepower and Torque from the CSV data.\n",
        "- Create the lists as NumPy arrays and reshape them.\n",
        "- Create a LinearRegression() model.\n",
        "- Call **fit(.)** with the two reshaped lists.\n",
        "- Call **predict(.)** with the reshaped list of Horsepower.\n",
        "- Create a scatter plot with all the points (Horsepower vs Torque)\n",
        "- Create a line (red) with the prediction result."
      ],
      "metadata": {
        "id": "nkCSvdtCJRjx"
      }
    },
    {
      "cell_type": "code",
      "source": [
        "import numpy as np\n",
        "from sklearn.linear_model import LinearRegression\n",
        "import matplotlib.pyplot as plt\n",
        "%matplotlib inline\n",
        "import urllib.request\n",
        "import csv"
      ],
      "metadata": {
        "id": "jL_9_cDIJruH"
      },
      "execution_count": 1,
      "outputs": []
    },
    {
      "cell_type": "code",
      "source": [
        "remote_file = \"https://raw.githubusercontent.com/kirannair97/learning-python-2023/main/cars.csv\""
      ],
      "metadata": {
        "id": "VcKzJy2JRN5C"
      },
      "execution_count": 2,
      "outputs": []
    },
    {
      "cell_type": "code",
      "source": [
        "with urllib.request.urlopen(remote_file) as f:\n",
        "  csv_reader = csv.DictReader(f.read().decode().split(\"\\n\"))\n",
        "  cars = list(csv_reader)"
      ],
      "metadata": {
        "id": "dtLTjIT2KW8A"
      },
      "execution_count": 4,
      "outputs": []
    },
    {
      "cell_type": "code",
      "source": [
        "cars[0]"
      ],
      "metadata": {
        "colab": {
          "base_uri": "https://localhost:8080/"
        },
        "id": "mss5f4wySq0B",
        "outputId": "509289cd-d7b1-4144-bada-41d6c7d4022f"
      },
      "execution_count": 5,
      "outputs": [
        {
          "output_type": "execute_result",
          "data": {
            "text/plain": [
              "{'Height': '140',\n",
              " 'Length': '143',\n",
              " 'Width': '202',\n",
              " 'Engine Driveline': 'All-wheel drive',\n",
              " 'Engine Type': 'Audi 3.2L 6 cylinder 250hp 236ft-lbs',\n",
              " 'Engine Hybrid': 'True',\n",
              " 'Number of Forward Gears': '6',\n",
              " 'Engine Transmission': '6 Speed Automatic Select Shift',\n",
              " 'Fuel City mpg': '18',\n",
              " 'Fuel Type': 'Gasoline',\n",
              " 'Fuel Highway mpg': '25',\n",
              " 'Classification': 'Automatic transmission',\n",
              " 'ID': '2009 Audi A3 3.2',\n",
              " 'Make': 'Audi',\n",
              " 'Model Year': '2009 Audi A3',\n",
              " 'Year': '2009',\n",
              " 'Horsepower': '250',\n",
              " 'Torque': '236'}"
            ]
          },
          "metadata": {},
          "execution_count": 5
        }
      ]
    },
    {
      "cell_type": "code",
      "source": [
        "horse_power = [int(car['Horsepower']) for car in cars]\n",
        "torque_power = [int(car['Torque']) for car in cars]"
      ],
      "metadata": {
        "id": "BNKo__LkSxvv"
      },
      "execution_count": 7,
      "outputs": []
    },
    {
      "cell_type": "code",
      "source": [
        "X = np.array([horse_power]).reshape(-1,1)\n",
        "Y = np.array([torque_power]).reshape(-1,1)"
      ],
      "metadata": {
        "id": "Cc6ivHZ0Uk85"
      },
      "execution_count": 8,
      "outputs": []
    },
    {
      "cell_type": "code",
      "source": [
        "lin_regressor = LinearRegression()\n",
        "lin_regressor.fit(X,Y)\n",
        "Y_pred = lin_regressor.predict(X)"
      ],
      "metadata": {
        "id": "CgPREdEQVXhm"
      },
      "execution_count": 11,
      "outputs": []
    },
    {
      "cell_type": "code",
      "source": [
        "alpha = str(round(lin_regressor.intercept_[0], 5))\n",
        "beta = str(round(lin_regressor.coef_[0][0]))"
      ],
      "metadata": {
        "id": "8uzSgPP3WQJo"
      },
      "execution_count": 12,
      "outputs": []
    },
    {
      "cell_type": "code",
      "source": [
        "fig, ax = plt.subplots()\n",
        "ax.set_title(f\"Alpha: {alpha}, Beta: {beta}\")\n",
        "ax.scatter(X, Y)\n",
        "ax.plot(X, Y_pred, c = 'r')"
      ],
      "metadata": {
        "colab": {
          "base_uri": "https://localhost:8080/",
          "height": 298
        },
        "id": "gg1g7nn5XPeh",
        "outputId": "585a5a02-9df4-4ca9-ec8a-336cf3e48996"
      },
      "execution_count": 16,
      "outputs": [
        {
          "output_type": "execute_result",
          "data": {
            "text/plain": [
              "[<matplotlib.lines.Line2D at 0x7f6f0f4b2f10>]"
            ]
          },
          "metadata": {},
          "execution_count": 16
        },
        {
          "output_type": "display_data",
          "data": {
            "text/plain": [
              "<Figure size 432x288 with 1 Axes>"
            ],
            "image/png": "[encoded data removed]"
          },
          "metadata": {
            "needs_background": "light"
          }
        }
      ]
    }
  ]
}