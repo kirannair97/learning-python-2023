{
  "nbformat": 4,
  "nbformat_minor": 0,
  "metadata": {
    "colab": {
      "provenance": [],
      "authorship_tag": "ABX9TyNrN1C96Vi+eNg2L9RPjstF",
      "include_colab_link": true
    },
    "kernelspec": {
      "name": "python3",
      "display_name": "Python 3"
    },
    "language_info": {
      "name": "python"
    }
  },
  "cells": [
    {
      "cell_type": "markdown",
      "metadata": {
        "id": "view-in-github",
        "colab_type": "text"
      },
      "source": [
        "<a href=\"https://colab.research.google.com/github/kirannair97/learning-python-2023/blob/main/P3_Interactive_Calculations.ipynb\" target=\"_parent\"><img src=\"https://colab.research.google.com/assets/colab-badge.svg\" alt=\"Open In Colab\"/></a>"
      ]
    },
    {
      "cell_type": "markdown",
      "source": [
        "# Project: Interactive Calculations"
      ],
      "metadata": {
        "id": "C19ZPCg6TkS4"
      }
    },
    {
      "cell_type": "markdown",
      "source": [
        "## Goal\n",
        "\n",
        "1. Multiply two numbers\n",
        "2. Days since you were born\n",
        "3. Tip calculator"
      ],
      "metadata": {
        "id": "_PxJ2pNaTv8Z"
      }
    },
    {
      "cell_type": "markdown",
      "source": [
        "### Step 1\n",
        "- Input a value from the user and keep it in variable **a**\n",
        "- Input another value from the user and keep it in variable **b**\n",
        "- Print the product of the two values (**a*b**)"
      ],
      "metadata": {
        "id": "iZnOEdVIUK-S"
      }
    },
    {
      "cell_type": "code",
      "source": [
        "a = input('Input a: ')\n",
        "b = input('Input b: ')\n",
        "product = int(a) * int(b)\n",
        "print(f\"product of a * b is {product}\")"
      ],
      "metadata": {
        "colab": {
          "base_uri": "https://localhost:8080/"
        },
        "id": "_tw5EgBIUZnx",
        "outputId": "0c2d5cae-be11-4e61-8fb3-b08f628b9996"
      },
      "execution_count": null,
      "outputs": [
        {
          "output_type": "stream",
          "name": "stdout",
          "text": [
            "Input a: 12\n",
            "Input b: 10\n",
            "product of a * b is 120\n"
          ]
        }
      ]
    },
    {
      "cell_type": "markdown",
      "source": [
        "### Step 2\n",
        "- Input the users age\n",
        "- Convert the years to an integer\n",
        "- Calculate how many days, hours, minutes, and seconds since the user is born"
      ],
      "metadata": {
        "id": "myA7_4xGVmv1"
      }
    },
    {
      "cell_type": "code",
      "source": [
        "age = input(\"your age: \" )\n",
        "age = int(age)\n",
        "print(f\"you are {age} years old\")\n",
        "print(f\"which means by days you are {age*365} days old\")\n",
        "print(f\"which is by hours you are {age * 365 * 24} hours old\")\n",
        "print(f\"by minutes you are {age * 365 * 24 * 60} minutes old\")\n",
        "print(f\"and by seconds you are {age * 365 * 24 * 60 * 60} seconds old\")"
      ],
      "metadata": {
        "colab": {
          "base_uri": "https://localhost:8080/"
        },
        "id": "-pYQmDBTVn2f",
        "outputId": "d77fd75a-1e17-406b-f4f8-90b2f31840cc"
      },
      "execution_count": null,
      "outputs": [
        {
          "output_type": "stream",
          "name": "stdout",
          "text": [
            "your age: 26\n",
            "you are 26 years old\n",
            "which means by days you are 9490 days old\n",
            "which is by hours you are 227760 hours old\n",
            "by minutes you are 13665600 minutes old\n",
            "and by seconds you are 819936000 seconds old\n"
          ]
        }
      ]
    },
    {
      "cell_type": "markdown",
      "source": [
        "### Step 3\n",
        "- Lets make a tip calculator.\n",
        "- Input the price.\n",
        "- Convert the price to an integer.\n",
        "- Input the percentage the user wants to tip.\n",
        "- Convert the percentage to an integer.\n",
        "- Calculate the tip by the following formula: **tip = price $\\times$ percentage_tip / 100**.\n",
        "- Round the tip to two digits.\n",
        "- Print the the tip.\n",
        "- *BONUS:* Adjust the code to take float input of percentage tip"
      ],
      "metadata": {
        "id": "--ZRycz2acVv"
      }
    },
    {
      "cell_type": "code",
      "source": [
        "price = input('price: ')\n",
        "price = int(price)\n",
        "percentage_tip = input('how much do you want to tip % ?: ')\n",
        "percentage_tip = float(percentage_tip)\n",
        "tip = price * percentage_tip/100\n",
        "tip = round(tip, 2)\n",
        "print(f\"tip {tip}\")"
      ],
      "metadata": {
        "colab": {
          "base_uri": "https://localhost:8080/"
        },
        "id": "F3cQ9zZYbEdK",
        "outputId": "759b80ff-66da-4772-9ffa-e6b5b2b14107"
      },
      "execution_count": null,
      "outputs": [
        {
          "output_type": "stream",
          "name": "stdout",
          "text": [
            "price: 167\n",
            "how much do you want to tip % ?: 12\n",
            "tip 20.04\n"
          ]
        }
      ]
    }
  ]
}