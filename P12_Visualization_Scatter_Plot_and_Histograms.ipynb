{
  "nbformat": 4,
  "nbformat_minor": 0,
  "metadata": {
    "colab": {
      "provenance": [],
      "authorship_tag": "ABX9TyOhwFsblPlj1t+5fitVWfzF",
      "include_colab_link": true
    },
    "kernelspec": {
      "name": "python3",
      "display_name": "Python 3"
    },
    "language_info": {
      "name": "python"
    }
  },
  "cells": [
    {
      "cell_type": "markdown",
      "metadata": {
        "id": "view-in-github",
        "colab_type": "text"
      },
      "source": [
        "<a href=\"https://colab.research.google.com/github/kirannair97/learning-python-2023/blob/main/P12_Visualization_Scatter_Plot_and_Histograms.ipynb\" target=\"_parent\"><img src=\"https://colab.research.google.com/assets/colab-badge.svg\" alt=\"Open In Colab\"/></a>"
      ]
    },
    {
      "cell_type": "markdown",
      "source": [
        "# Project - Horsepower vs Torque and Roll Dice"
      ],
      "metadata": {
        "id": "rPFtS7A-hxTk"
      }
    },
    {
      "cell_type": "markdown",
      "source": [
        "### Goal:\n",
        "*   Learn how to make scatter plot and histograms\n"
      ],
      "metadata": {
        "id": "VYIi-GP8h-2e"
      }
    },
    {
      "cell_type": "markdown",
      "source": [
        "### Horsepower vs Torque\n",
        "- Import matplotlib.pyplot as plt and use %matplotlib inline.\n",
        "- Import csv\n",
        "- Read the files/cars.csv into a list of dictionaries.\n",
        "- Use list comprehension to get\n",
        "    - Horsepwer\n",
        "    - Torque\n",
        "    - Bonus: Fuel City mpg\n",
        "- Make a scatter plot\n",
        "    - Options: Use alpha=.25 and c= with the list of Fuel City mpg"
      ],
      "metadata": {
        "id": "WBkBwrsqiN5s"
      }
    },
    {
      "cell_type": "code",
      "source": [
        "import matplotlib.pyplot as plt\n",
        "%matplotlib inline"
      ],
      "metadata": {
        "id": "_ANdS3IIkMrW"
      },
      "execution_count": 1,
      "outputs": []
    },
    {
      "cell_type": "code",
      "source": [
        "import urllib.request\n",
        "import csv"
      ],
      "metadata": {
        "id": "ZXsHJSbzkSrT"
      },
      "execution_count": 2,
      "outputs": []
    },
    {
      "cell_type": "code",
      "source": [
        "remote_file = \"https://raw.githubusercontent.com/kirannair97/learning-python-2023/main/cars.csv\"\n",
        "\n",
        "with urllib.request.urlopen(remote_file) as f:\n",
        "  csv_reader = csv.DictReader(f.read().decode().split('\\n'))\n",
        "  cars = list(csv_reader)"
      ],
      "metadata": {
        "id": "Gha_1Ipokdtt"
      },
      "execution_count": 3,
      "outputs": []
    },
    {
      "cell_type": "code",
      "source": [
        "cars[0]"
      ],
      "metadata": {
        "colab": {
          "base_uri": "https://localhost:8080/"
        },
        "id": "nXZKKYI9lsSt",
        "outputId": "77d5e9b9-5d05-4feb-ad43-5d08dc61816d"
      },
      "execution_count": 4,
      "outputs": [
        {
          "output_type": "execute_result",
          "data": {
            "text/plain": [
              "{'Height': '140',\n",
              " 'Length': '143',\n",
              " 'Width': '202',\n",
              " 'Engine Driveline': 'All-wheel drive',\n",
              " 'Engine Type': 'Audi 3.2L 6 cylinder 250hp 236ft-lbs',\n",
              " 'Engine Hybrid': 'True',\n",
              " 'Number of Forward Gears': '6',\n",
              " 'Engine Transmission': '6 Speed Automatic Select Shift',\n",
              " 'Fuel City mpg': '18',\n",
              " 'Fuel Type': 'Gasoline',\n",
              " 'Fuel Highway mpg': '25',\n",
              " 'Classification': 'Automatic transmission',\n",
              " 'ID': '2009 Audi A3 3.2',\n",
              " 'Make': 'Audi',\n",
              " 'Model Year': '2009 Audi A3',\n",
              " 'Year': '2009',\n",
              " 'Horsepower': '250',\n",
              " 'Torque': '236'}"
            ]
          },
          "metadata": {},
          "execution_count": 4
        }
      ]
    },
    {
      "cell_type": "code",
      "source": [
        "horse_power = [int(car[\"Horsepower\"]) for car in cars]\n",
        "torque_power = [int(car['Torque']) for car in cars]\n",
        "mpg = [int(car[\"Fuel City mpg\"]) for car in cars]"
      ],
      "metadata": {
        "id": "pNGEb8nRltv2"
      },
      "execution_count": 6,
      "outputs": []
    },
    {
      "cell_type": "code",
      "source": [
        "fig, ax = plt.subplots()\n",
        "ax.scatter(horse_power, torque_power, alpha = .25, c = mpg)\n",
        "ax.set_xlabel('Horse Power')\n",
        "ax.set_ylabel('Torque')"
      ],
      "metadata": {
        "colab": {
          "base_uri": "https://localhost:8080/",
          "height": 298
        },
        "id": "d9mtXw65mxPG",
        "outputId": "625e3373-dac5-4d59-e992-cb2122be5870"
      },
      "execution_count": 9,
      "outputs": [
        {
          "output_type": "execute_result",
          "data": {
            "text/plain": [
              "Text(0, 0.5, 'Torque')"
            ]
          },
          "metadata": {},
          "execution_count": 9
        },
        {
          "output_type": "display_data",
          "data": {
            "text/plain": [
              "<Figure size 432x288 with 1 Axes>"
            ],
            "image/png": "[encoded data removed]"
          },
          "metadata": {
            "needs_background": "light"
          }
        }
      ]
    },
    {
      "cell_type": "markdown",
      "source": [
        "### Roll Dice\n",
        "- Import random\n",
        "- Create a functin role_dice(), which simulates a roll of 2 dice.\n",
        "- Use list comprehension to create a list of 500 calls to role_dice().\n",
        "- Create a histogram with 11 bins of the list."
      ],
      "metadata": {
        "id": "p59DdObXwka9"
      }
    },
    {
      "cell_type": "code",
      "source": [
        "import random"
      ],
      "metadata": {
        "id": "PueaaTeswuBA"
      },
      "execution_count": 29,
      "outputs": []
    },
    {
      "cell_type": "code",
      "source": [
        "def role_dice():\n",
        "  return random.randint(1,6) + random.randint(1,6)"
      ],
      "metadata": {
        "id": "x_YxmJzGwmAX"
      },
      "execution_count": 30,
      "outputs": []
    },
    {
      "cell_type": "code",
      "source": [
        "role_dice()"
      ],
      "metadata": {
        "colab": {
          "base_uri": "https://localhost:8080/"
        },
        "id": "U9ruhFN6w3a1",
        "outputId": "00be5866-3437-42d2-d243-bc41fd3cbd0f"
      },
      "execution_count": 31,
      "outputs": [
        {
          "output_type": "execute_result",
          "data": {
            "text/plain": [
              "10"
            ]
          },
          "metadata": {},
          "execution_count": 31
        }
      ]
    },
    {
      "cell_type": "code",
      "source": [
        "data = [role_dice() for _ in range(500)]\n",
        "len(data)"
      ],
      "metadata": {
        "colab": {
          "base_uri": "https://localhost:8080/"
        },
        "id": "3Ij-KTIqxRM3",
        "outputId": "758b790a-6b99-42a3-d467-38c3c7cd3c1a"
      },
      "execution_count": 32,
      "outputs": [
        {
          "output_type": "execute_result",
          "data": {
            "text/plain": [
              "500"
            ]
          },
          "metadata": {},
          "execution_count": 32
        }
      ]
    },
    {
      "cell_type": "code",
      "source": [
        "min(data)"
      ],
      "metadata": {
        "colab": {
          "base_uri": "https://localhost:8080/"
        },
        "id": "-PUrB-sxw8rn",
        "outputId": "59cf658c-1f7d-44e3-e3f5-65b186c720b8"
      },
      "execution_count": 20,
      "outputs": [
        {
          "output_type": "execute_result",
          "data": {
            "text/plain": [
              "2"
            ]
          },
          "metadata": {},
          "execution_count": 20
        }
      ]
    },
    {
      "cell_type": "code",
      "source": [
        "max(data)"
      ],
      "metadata": {
        "colab": {
          "base_uri": "https://localhost:8080/"
        },
        "id": "CTM7sR5cxBdA",
        "outputId": "7d1cf15f-330e-4881-8b6a-019bf2cc7409"
      },
      "execution_count": 22,
      "outputs": [
        {
          "output_type": "execute_result",
          "data": {
            "text/plain": [
              "12"
            ]
          },
          "metadata": {},
          "execution_count": 22
        }
      ]
    },
    {
      "cell_type": "code",
      "source": [
        "fig, ax = plt.subplots()\n",
        "ax.hist(data, bins = 11)"
      ],
      "metadata": {
        "colab": {
          "base_uri": "https://localhost:8080/",
          "height": 352
        },
        "id": "HS8F6kcPxv9S",
        "outputId": "fae07f40-9b26-4df9-c0ec-c5278c8131d4"
      },
      "execution_count": 33,
      "outputs": [
        {
          "output_type": "execute_result",
          "data": {
            "text/plain": [
              "(array([16., 36., 43., 47., 60., 81., 65., 63., 50., 25., 14.]),\n",
              " array([ 2.        ,  2.90909091,  3.81818182,  4.72727273,  5.63636364,\n",
              "         6.54545455,  7.45454545,  8.36363636,  9.27272727, 10.18181818,\n",
              "        11.09090909, 12.        ]),\n",
              " <BarContainer object of 11 artists>)"
            ]
          },
          "metadata": {},
          "execution_count": 33
        },
        {
          "output_type": "display_data",
          "data": {
            "text/plain": [
              "<Figure size 432x288 with 1 Axes>"
            ],
            "image/png": "[encoded data removed]"
          },
          "metadata": {
            "needs_background": "light"
          }
        }
      ]
    },
    {
      "cell_type": "code",
      "source": [],
      "metadata": {
        "id": "5hvUl-5vx_2U"
      },
      "execution_count": null,
      "outputs": []
    }
  ]
}