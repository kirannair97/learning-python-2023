{
  "nbformat": 4,
  "nbformat_minor": 0,
  "metadata": {
    "colab": {
      "provenance": [],
      "authorship_tag": "ABX9TyMkDUveH+hDHf44FdHl/hkC",
      "include_colab_link": true
    },
    "kernelspec": {
      "name": "python3",
      "display_name": "Python 3"
    },
    "language_info": {
      "name": "python"
    }
  },
  "cells": [
    {
      "cell_type": "markdown",
      "metadata": {
        "id": "view-in-github",
        "colab_type": "text"
      },
      "source": [
        "<a href=\"https://colab.research.google.com/github/kirannair97/learning-python-2023/blob/main/P14_Pandas_and_Excel_Export.ipynb\" target=\"_parent\"><img src=\"https://colab.research.google.com/assets/colab-badge.svg\" alt=\"Open In Colab\"/></a>"
      ]
    },
    {
      "cell_type": "markdown",
      "source": [
        "# Project - Pandas and Excel Export"
      ],
      "metadata": {
        "id": "zrNT2p9BZTbc"
      }
    },
    {
      "cell_type": "markdown",
      "source": [
        "### Goal:\n",
        "1.   Learn how to use Pandas DataFrames\n",
        "2.   Export to Excel spreadsheets"
      ],
      "metadata": {
        "id": "hK84i7mdZbsb"
      }
    },
    {
      "cell_type": "markdown",
      "source": [
        "### Description\n",
        "- import pandas as pd\n",
        "- Read the CSV file files/SalesData.csv with pandas\n",
        "    - Remember to set index_col to Date, delimiter to ';' and parse_dates to True\n",
        "- Group the data by **Sales rep** and sum it\n",
        "- Group the data by month\n",
        "    - HINT: Use pd.Grouper(freq='M')\n",
        "    - HINT: Change the index naming to use month names\n",
        "- Export the data to Excel\n",
        "    - Create an ExcelWriter from Pandas\n",
        "    - Write a sheet with **Sales rep** data create above (remember to set sheet_name)\n",
        "    - Write a sheet with **Monthly** data created above (remember to set sheet_name)\n",
        "- Bonus:\n",
        "    - Create charts column charts for each sheet.\n",
        "    - Use the simple way we created it."
      ],
      "metadata": {
        "id": "dcEID3pnZxtn"
      }
    },
    {
      "cell_type": "code",
      "source": [
        "import pandas as pd"
      ],
      "metadata": {
        "id": "EtUWiDL8aSLA"
      },
      "execution_count": 1,
      "outputs": []
    },
    {
      "cell_type": "code",
      "source": [
        "data = pd.read_csv(\"https://raw.githubusercontent.com/kirannair97/learning-python-2023/main/SalesData.csv\", delimiter = ';', parse_dates = True, index_col = 'Date')"
      ],
      "metadata": {
        "id": "JncAM0OjaUig"
      },
      "execution_count": 2,
      "outputs": []
    },
    {
      "cell_type": "code",
      "source": [
        "data"
      ],
      "metadata": {
        "colab": {
          "base_uri": "https://localhost:8080/",
          "height": 455
        },
        "id": "tUaOkPx2a0X8",
        "outputId": "cd3fa3c9-5e8c-4ee7-e168-1aaf71c25649"
      },
      "execution_count": 3,
      "outputs": [
        {
          "output_type": "execute_result",
          "data": {
            "text/plain": [
              "            Sales rep        Item  Price  Quantity  Sale\n",
              "Date                                                    \n",
              "2020-05-31        Mia     Markers      4         1     4\n",
              "2020-02-01        Mia  Desk chair    199         2   398\n",
              "2020-09-21     Oliver       Table   1099         2  2198\n",
              "2020-07-15  Charlotte    Desk pad      9         2    18\n",
              "2020-05-27       Emma        Book     12         1    12\n",
              "...               ...         ...    ...       ...   ...\n",
              "2020-02-28     Oliver  Desk chair    199         5   995\n",
              "2020-10-01     Sophia       Table   1099         4  4396\n",
              "2020-07-28     Sophia        Book     12         1    12\n",
              "2020-06-21       Liam         Pen      3         4    12\n",
              "2020-01-26       Noah  Desk chair    199         5   995\n",
              "\n",
              "[1000 rows x 5 columns]"
            ],
            "text/html": [
              "\n",
              "  <div id=\"df-6d9c4429-2eba-48a5-886b-0584e41dd0ab\">\n",
              "    <div class=\"colab-df-container\">\n",
              "      <div>\n",
              "<style scoped>\n",
              "    .dataframe tbody tr th:only-of-type {\n",
              "        vertical-align: middle;\n",
              "    }\n",
              "\n",
              "    .dataframe tbody tr th {\n",
              "        vertical-align: top;\n",
              "    }\n",
              "\n",
              "    .dataframe thead th {\n",
              "        text-align: right;\n",
              "    }\n",
              "</style>\n",
              "<table border=\"1\" class=\"dataframe\">\n",
              "  <thead>\n",
              "    <tr style=\"text-align: right;\">\n",
              "      <th></th>\n",
              "      <th>Sales rep</th>\n",
              "      <th>Item</th>\n",
              "      <th>Price</th>\n",
              "      <th>Quantity</th>\n",
              "      <th>Sale</th>\n",
              "    </tr>\n",
              "    <tr>\n",
              "      <th>Date</th>\n",
              "      <th></th>\n",
              "      <th></th>\n",
              "      <th></th>\n",
              "      <th></th>\n",
              "      <th></th>\n",
              "    </tr>\n",
              "  </thead>\n",
              "  <tbody>\n",
              "    <tr>\n",
              "      <th>2020-05-31</th>\n",
              "      <td>Mia</td>\n",
              "      <td>Markers</td>\n",
              "      <td>4</td>\n",
              "      <td>1</td>\n",
              "      <td>4</td>\n",
              "    </tr>\n",
              "    <tr>\n",
              "      <th>2020-02-01</th>\n",
              "      <td>Mia</td>\n",
              "      <td>Desk chair</td>\n",
              "      <td>199</td>\n",
              "      <td>2</td>\n",
              "      <td>398</td>\n",
              "    </tr>\n",
              "    <tr>\n",
              "      <th>2020-09-21</th>\n",
              "      <td>Oliver</td>\n",
              "      <td>Table</td>\n",
              "      <td>1099</td>\n",
              "      <td>2</td>\n",
              "      <td>2198</td>\n",
              "    </tr>\n",
              "    <tr>\n",
              "      <th>2020-07-15</th>\n",
              "      <td>Charlotte</td>\n",
              "      <td>Desk pad</td>\n",
              "      <td>9</td>\n",
              "      <td>2</td>\n",
              "      <td>18</td>\n",
              "    </tr>\n",
              "    <tr>\n",
              "      <th>2020-05-27</th>\n",
              "      <td>Emma</td>\n",
              "      <td>Book</td>\n",
              "      <td>12</td>\n",
              "      <td>1</td>\n",
              "      <td>12</td>\n",
              "    </tr>\n",
              "    <tr>\n",
              "      <th>...</th>\n",
              "      <td>...</td>\n",
              "      <td>...</td>\n",
              "      <td>...</td>\n",
              "      <td>...</td>\n",
              "      <td>...</td>\n",
              "    </tr>\n",
              "    <tr>\n",
              "      <th>2020-02-28</th>\n",
              "      <td>Oliver</td>\n",
              "      <td>Desk chair</td>\n",
              "      <td>199</td>\n",
              "      <td>5</td>\n",
              "      <td>995</td>\n",
              "    </tr>\n",
              "    <tr>\n",
              "      <th>2020-10-01</th>\n",
              "      <td>Sophia</td>\n",
              "      <td>Table</td>\n",
              "      <td>1099</td>\n",
              "      <td>4</td>\n",
              "      <td>4396</td>\n",
              "    </tr>\n",
              "    <tr>\n",
              "      <th>2020-07-28</th>\n",
              "      <td>Sophia</td>\n",
              "      <td>Book</td>\n",
              "      <td>12</td>\n",
              "      <td>1</td>\n",
              "      <td>12</td>\n",
              "    </tr>\n",
              "    <tr>\n",
              "      <th>2020-06-21</th>\n",
              "      <td>Liam</td>\n",
              "      <td>Pen</td>\n",
              "      <td>3</td>\n",
              "      <td>4</td>\n",
              "      <td>12</td>\n",
              "    </tr>\n",
              "    <tr>\n",
              "      <th>2020-01-26</th>\n",
              "      <td>Noah</td>\n",
              "      <td>Desk chair</td>\n",
              "      <td>199</td>\n",
              "      <td>5</td>\n",
              "      <td>995</td>\n",
              "    </tr>\n",
              "  </tbody>\n",
              "</table>\n",
              "<p>1000 rows × 5 columns</p>\n",
              "</div>\n",
              "      <button class=\"colab-df-convert\" onclick=\"convertToInteractive('df-6d9c4429-2eba-48a5-886b-0584e41dd0ab')\"\n",
              "              title=\"Convert this dataframe to an interactive table.\"\n",
              "              style=\"display:none;\">\n",
              "        \n",
              "  <svg xmlns=\"http://www.w3.org/2000/svg\" height=\"24px\"viewBox=\"0 0 24 24\"\n",
              "       width=\"24px\">\n",
              "    <path d=\"M0 0h24v24H0V0z\" fill=\"none\"/>\n",
              "    <path d=\"M18.56 5.44l.94 2.06.94-2.06 2.06-.94-2.06-.94-.94-2.06-.94 2.06-2.06.94zm-11 1L8.5 8.5l.94-2.06 2.06-.94-2.06-.94L8.5 2.5l-.94 2.06-2.06.94zm10 10l.94 2.06.94-2.06 2.06-.94-2.06-.94-.94-2.06-.94 2.06-2.06.94z\"/><path d=\"M17.41 7.96l-1.37-1.37c-.4-.4-.92-.59-1.43-.59-.52 0-1.04.2-1.43.59L10.3 9.45l-7.72 7.72c-.78.78-.78 2.05 0 2.83L4 21.41c.39.39.9.59 1.41.59.51 0 1.02-.2 1.41-.59l7.78-7.78 2.81-2.81c.8-.78.8-2.07 0-2.86zM5.41 20L4 18.59l7.72-7.72 1.47 1.35L5.41 20z\"/>\n",
              "  </svg>\n",
              "      </button>\n",
              "      \n",
              "  <style>\n",
              "    .colab-df-container {\n",
              "      display:flex;\n",
              "      flex-wrap:wrap;\n",
              "      gap: 12px;\n",
              "    }\n",
              "\n",
              "    .colab-df-convert {\n",
              "      background-color: #E8F0FE;\n",
              "      border: none;\n",
              "      border-radius: 50%;\n",
              "      cursor: pointer;\n",
              "      display: none;\n",
              "      fill: #1967D2;\n",
              "      height: 32px;\n",
              "      padding: 0 0 0 0;\n",
              "      width: 32px;\n",
              "    }\n",
              "\n",
              "    .colab-df-convert:hover {\n",
              "      background-color: #E2EBFA;\n",
              "      box-shadow: 0px 1px 2px rgba(60, 64, 67, 0.3), 0px 1px 3px 1px rgba(60, 64, 67, 0.15);\n",
              "      fill: #174EA6;\n",
              "    }\n",
              "\n",
              "    [theme=dark] .colab-df-convert {\n",
              "      background-color: #3B4455;\n",
              "      fill: #D2E3FC;\n",
              "    }\n",
              "\n",
              "    [theme=dark] .colab-df-convert:hover {\n",
              "      background-color: #434B5C;\n",
              "      box-shadow: 0px 1px 3px 1px rgba(0, 0, 0, 0.15);\n",
              "      filter: drop-shadow(0px 1px 2px rgba(0, 0, 0, 0.3));\n",
              "      fill: #FFFFFF;\n",
              "    }\n",
              "  </style>\n",
              "\n",
              "      <script>\n",
              "        const buttonEl =\n",
              "          document.querySelector('#df-6d9c4429-2eba-48a5-886b-0584e41dd0ab button.colab-df-convert');\n",
              "        buttonEl.style.display =\n",
              "          google.colab.kernel.accessAllowed ? 'block' : 'none';\n",
              "\n",
              "        async function convertToInteractive(key) {\n",
              "          const element = document.querySelector('#df-6d9c4429-2eba-48a5-886b-0584e41dd0ab');\n",
              "          const dataTable =\n",
              "            await google.colab.kernel.invokeFunction('convertToInteractive',\n",
              "                                                     [key], {});\n",
              "          if (!dataTable) return;\n",
              "\n",
              "          const docLinkHtml = 'Like what you see? Visit the ' +\n",
              "            '<a target=\"_blank\" href=https://colab.research.google.com/notebooks/data_table.ipynb>data table notebook</a>'\n",
              "            + ' to learn more about interactive tables.';\n",
              "          element.innerHTML = '';\n",
              "          dataTable['output_type'] = 'display_data';\n",
              "          await google.colab.output.renderOutput(dataTable, element);\n",
              "          const docLink = document.createElement('div');\n",
              "          docLink.innerHTML = docLinkHtml;\n",
              "          element.appendChild(docLink);\n",
              "        }\n",
              "      </script>\n",
              "    </div>\n",
              "  </div>\n",
              "  "
            ]
          },
          "metadata": {},
          "execution_count": 3
        }
      ]
    },
    {
      "cell_type": "code",
      "source": [
        "data.dtypes"
      ],
      "metadata": {
        "colab": {
          "base_uri": "https://localhost:8080/"
        },
        "id": "BNcEaMsta3NA",
        "outputId": "542cc819-c5e3-43ac-a49d-3c984e0ed7c9"
      },
      "execution_count": 5,
      "outputs": [
        {
          "output_type": "execute_result",
          "data": {
            "text/plain": [
              "Sales rep    object\n",
              "Item         object\n",
              "Price         int64\n",
              "Quantity      int64\n",
              "Sale          int64\n",
              "dtype: object"
            ]
          },
          "metadata": {},
          "execution_count": 5
        }
      ]
    },
    {
      "cell_type": "code",
      "source": [
        "data.info()"
      ],
      "metadata": {
        "colab": {
          "base_uri": "https://localhost:8080/"
        },
        "id": "jobgTCQobAln",
        "outputId": "908825c6-3466-4621-eaae-dbc8f2c24390"
      },
      "execution_count": 6,
      "outputs": [
        {
          "output_type": "stream",
          "name": "stdout",
          "text": [
            "<class 'pandas.core.frame.DataFrame'>\n",
            "DatetimeIndex: 1000 entries, 2020-05-31 to 2020-01-26\n",
            "Data columns (total 5 columns):\n",
            " #   Column     Non-Null Count  Dtype \n",
            "---  ------     --------------  ----- \n",
            " 0   Sales rep  1000 non-null   object\n",
            " 1   Item       1000 non-null   object\n",
            " 2   Price      1000 non-null   int64 \n",
            " 3   Quantity   1000 non-null   int64 \n",
            " 4   Sale       1000 non-null   int64 \n",
            "dtypes: int64(3), object(2)\n",
            "memory usage: 46.9+ KB\n"
          ]
        }
      ]
    },
    {
      "cell_type": "code",
      "source": [
        "rep_sales = data.groupby('Sales rep').sum()['Sale']"
      ],
      "metadata": {
        "id": "PkA6fErAbLpQ"
      },
      "execution_count": 14,
      "outputs": []
    },
    {
      "cell_type": "code",
      "source": [
        "rep_sales"
      ],
      "metadata": {
        "colab": {
          "base_uri": "https://localhost:8080/"
        },
        "id": "eOXxqhcXczrz",
        "outputId": "42ec518d-9fb9-433c-dedb-85313c5bb98d"
      },
      "execution_count": 16,
      "outputs": [
        {
          "output_type": "execute_result",
          "data": {
            "text/plain": [
              "Sales rep\n",
              "Charlotte     74599\n",
              "Emma          65867\n",
              "Ethan         40970\n",
              "Liam          66989\n",
              "Mia           88199\n",
              "Noah          78575\n",
              "Oliver        89355\n",
              "Sophia       103480\n",
              "William       80400\n",
              "Name: Sale, dtype: int64"
            ]
          },
          "metadata": {},
          "execution_count": 16
        }
      ]
    },
    {
      "cell_type": "code",
      "source": [
        "monthly_sale = data.groupby(pd.Grouper(freq = 'M')).sum()['Sale']"
      ],
      "metadata": {
        "id": "J-kxo-3Id2eR"
      },
      "execution_count": 35,
      "outputs": []
    },
    {
      "cell_type": "code",
      "source": [
        "monthly_sale"
      ],
      "metadata": {
        "colab": {
          "base_uri": "https://localhost:8080/"
        },
        "id": "zan0R5EHefha",
        "outputId": "061effe3-09e7-488e-ba5e-aa891e1c89cc"
      },
      "execution_count": 36,
      "outputs": [
        {
          "output_type": "execute_result",
          "data": {
            "text/plain": [
              "Date\n",
              "2020-01-31    69990\n",
              "2020-02-29    51847\n",
              "2020-03-31    67500\n",
              "2020-04-30    58401\n",
              "2020-05-31    40319\n",
              "2020-06-30    59397\n",
              "2020-07-31    64251\n",
              "2020-08-31    51571\n",
              "2020-09-30    55666\n",
              "2020-10-31    50093\n",
              "2020-11-30    57458\n",
              "2020-12-31    61941\n",
              "Freq: M, Name: Sale, dtype: int64"
            ]
          },
          "metadata": {},
          "execution_count": 36
        }
      ]
    },
    {
      "cell_type": "code",
      "source": [
        "monthly_sale.index = monthly_sale.index.month_name()"
      ],
      "metadata": {
        "id": "97CLrP5mfG5H"
      },
      "execution_count": 37,
      "outputs": []
    },
    {
      "cell_type": "code",
      "source": [
        "monthly_sale"
      ],
      "metadata": {
        "colab": {
          "base_uri": "https://localhost:8080/"
        },
        "id": "y7hdJeCOf3IC",
        "outputId": "dbc8a203-874b-41ab-912e-047a329c22cb"
      },
      "execution_count": 38,
      "outputs": [
        {
          "output_type": "execute_result",
          "data": {
            "text/plain": [
              "Date\n",
              "January      69990\n",
              "February     51847\n",
              "March        67500\n",
              "April        58401\n",
              "May          40319\n",
              "June         59397\n",
              "July         64251\n",
              "August       51571\n",
              "September    55666\n",
              "October      50093\n",
              "November     57458\n",
              "December     61941\n",
              "Name: Sale, dtype: int64"
            ]
          },
          "metadata": {},
          "execution_count": 38
        }
      ]
    },
    {
      "cell_type": "code",
      "source": [
        "workbook = pd.ExcelWriter('SalesReport.xlsx')\n",
        "rep_sales.to_excel(workbook, sheet_name = 'Sales per rep')\n",
        "monthly_sale.to_excel(workbook, sheet_name = 'Monthly')\n",
        "workbook.close()"
      ],
      "metadata": {
        "id": "8zSuNSbwf8P0"
      },
      "execution_count": 40,
      "outputs": []
    },
    {
      "cell_type": "code",
      "source": [
        "pip install XlsxWriter"
      ],
      "metadata": {
        "colab": {
          "base_uri": "https://localhost:8080/"
        },
        "id": "EoA0zljAoOk1",
        "outputId": "3dd021d5-c151-45ab-b92e-f09ac95ab065"
      },
      "execution_count": 42,
      "outputs": [
        {
          "output_type": "stream",
          "name": "stdout",
          "text": [
            "Looking in indexes: https://pypi.org/simple, https://us-python.pkg.dev/colab-wheels/public/simple/\n",
            "Collecting XlsxWriter\n",
            "  Downloading XlsxWriter-3.0.9-py3-none-any.whl (152 kB)\n",
            "\u001b[2K     \u001b[90m━━━━━━━━━━━━━━━━━━━━━━━━━━━━━━━━━━━━━━\u001b[0m \u001b[32m152.8/152.8 KB\u001b[0m \u001b[31m12.5 MB/s\u001b[0m eta \u001b[36m0:00:00\u001b[0m\n",
            "\u001b[?25hInstalling collected packages: XlsxWriter\n",
            "Successfully installed XlsxWriter-3.0.9\n"
          ]
        }
      ]
    },
    {
      "cell_type": "code",
      "source": [
        "workbook = pd.ExcelWriter('SalesReport.xlsx')\n",
        "rep_sales.to_excel(workbook, sheet_name = 'Sales per rep')\n",
        "monthly_sale.to_excel(workbook, sheet_name = 'Monthly')\n",
        "\n",
        "chart1 = workbook.book.add_chart({'type' : 'column'})\n",
        "\n",
        "# Configure the first series.abs\n",
        "chart1.add_series({\n",
        "    'name': 'Sales per rep',\n",
        "    'categories': \"='Sales per rep'!$A$2:$A$10\",\n",
        "    'values': \"='Sales per rep'!$B$2:$B$10\",\n",
        "\n",
        "})\n",
        "\n",
        "workbook.sheets['Sales per rep'].insert_chart('D2', chart1)\n",
        "\n",
        "chart1 = workbook.book.add_chart({'type' : 'column'})\n",
        "\n",
        "# Configure the first series.abs\n",
        "chart1.add_series({\n",
        "    'name': 'Monthly sales',\n",
        "    'categories': '=Monthly!$A$2:$A$13',\n",
        "    'values': '=Monthly!$B$2:$B$13',\n",
        "\n",
        "})\n",
        "\n",
        "workbook.sheets['Monthly'].insert_chart('D2', chart1)\n",
        "\n",
        "workbook.close()"
      ],
      "metadata": {
        "id": "WsKV5rDwj9yM"
      },
      "execution_count": 45,
      "outputs": []
    },
    {
      "cell_type": "markdown",
      "source": [
        "*Output SS below: Charts created on xlsx file *"
      ],
      "metadata": {
        "id": "tpgnrt5Up_Bt"
      }
    },
    {
      "cell_type": "markdown",
      "source": [
        "![Screenshot 2023-03-30 232221.png](data:image/png;base64,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)![Screenshot 2023-03-30 232248.png](data:image/png;base64,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)"
      ],
      "metadata": {
        "id": "dqXDmKvRp4kt"
      }
    }
  ]
}