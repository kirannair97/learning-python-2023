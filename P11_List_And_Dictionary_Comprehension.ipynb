{
  "nbformat": 4,
  "nbformat_minor": 0,
  "metadata": {
    "colab": {
      "provenance": [],
      "authorship_tag": "ABX9TyNNJSrdLh4JOMns14VaobL0",
      "include_colab_link": true
    },
    "kernelspec": {
      "name": "python3",
      "display_name": "Python 3"
    },
    "language_info": {
      "name": "python"
    }
  },
  "cells": [
    {
      "cell_type": "markdown",
      "metadata": {
        "id": "view-in-github",
        "colab_type": "text"
      },
      "source": [
        "<a href=\"https://colab.research.google.com/github/kirannair97/learning-python-2023/blob/main/P11_List_And_Dictionary_Comprehension.ipynb\" target=\"_parent\"><img src=\"https://colab.research.google.com/assets/colab-badge.svg\" alt=\"Open In Colab\"/></a>"
      ]
    },
    {
      "cell_type": "markdown",
      "source": [
        "## Project: List and Dictionary Comprehension"
      ],
      "metadata": {
        "id": "I1WjCqP0hkv2"
      }
    },
    {
      "cell_type": "markdown",
      "source": [
        "### Goal\n",
        "\n",
        "1.   Learn to use list and dict comprehension"
      ],
      "metadata": {
        "id": "nnrWj_aeiYfO"
      }
    },
    {
      "cell_type": "markdown",
      "source": [
        "### Description\n",
        "*   Redo Some of the code from previous project (Cesar Cipher)"
      ],
      "metadata": {
        "id": "fairH0y5jQZb"
      }
    },
    {
      "cell_type": "markdown",
      "source": [
        "### Encrypt with list comprehension\n",
        "- Use **encrypt_char** and list comprehension to encrypt a string (\"you are awesome\").\n",
        "- HINT: You can use join(.)"
      ],
      "metadata": {
        "id": "Adr_9RzIjvMG"
      }
    },
    {
      "cell_type": "code",
      "source": [
        "def encrypt_char(char, key):\n",
        "    return chr(ord('A') + (ord(char) - ord('A') + key) %26)"
      ],
      "metadata": {
        "id": "p-_qtbG2mN5i"
      },
      "execution_count": 1,
      "outputs": []
    },
    {
      "cell_type": "code",
      "source": [
        "encrypt_char('Y', 3)"
      ],
      "metadata": {
        "colab": {
          "base_uri": "https://localhost:8080/",
          "height": 35
        },
        "id": "NbPlKo9KmRXJ",
        "outputId": "4fac881e-ad4e-47a1-8047-ce45e93359ec"
      },
      "execution_count": 2,
      "outputs": [
        {
          "output_type": "execute_result",
          "data": {
            "text/plain": [
              "'B'"
            ],
            "application/vnd.google.colaboratory.intrinsic+json": {
              "type": "string"
            }
          },
          "metadata": {},
          "execution_count": 2
        }
      ]
    },
    {
      "cell_type": "code",
      "source": [
        "message = 'You are awesome'\n",
        "key = 3\n",
        "cipher_list = [encrypt_char(i, key) if i not in ' ' else i for i in message.upper()]\n",
        "encrypted_message = ''.join(cipher_list)\n",
        "encrypted_message"
      ],
      "metadata": {
        "colab": {
          "base_uri": "https://localhost:8080/",
          "height": 35
        },
        "id": "nwy37KGpmU33",
        "outputId": "f78a7887-c82b-40b9-bb27-fa702924e62d"
      },
      "execution_count": 4,
      "outputs": [
        {
          "output_type": "execute_result",
          "data": {
            "text/plain": [
              "'BRX DUH DZHVRPH'"
            ],
            "application/vnd.google.colaboratory.intrinsic+json": {
              "type": "string"
            }
          },
          "metadata": {},
          "execution_count": 4
        }
      ]
    },
    {
      "cell_type": "markdown",
      "source": [
        "### Decrypt with List Comprehension\n",
        "*   Use **decrypt_char** and list comprehension to decrypt the cipher."
      ],
      "metadata": {
        "id": "rGwqmZXwrdsx"
      }
    },
    {
      "cell_type": "code",
      "source": [
        "def decrypt_char(char, key):\n",
        "    return encrypt_char(char, 26 - key)"
      ],
      "metadata": {
        "id": "ucpPriXtr-RP"
      },
      "execution_count": 5,
      "outputs": []
    },
    {
      "cell_type": "code",
      "source": [
        "cipher = 'BRX DUH DZHVRPH'\n",
        "key = 3\n",
        "message_list = [decrypt_char(i, key) if i not in ' ' else i for i in cipher]\n",
        "message = ''.join(message_list)\n",
        "message"
      ],
      "metadata": {
        "colab": {
          "base_uri": "https://localhost:8080/",
          "height": 35
        },
        "id": "PRMegcO3r0o8",
        "outputId": "82bf7464-6295-4006-ab94-f5d9f5c526b0"
      },
      "execution_count": 6,
      "outputs": [
        {
          "output_type": "execute_result",
          "data": {
            "text/plain": [
              "'YOU ARE AWESOME'"
            ],
            "application/vnd.google.colaboratory.intrinsic+json": {
              "type": "string"
            }
          },
          "metadata": {},
          "execution_count": 6
        }
      ]
    },
    {
      "cell_type": "markdown",
      "source": [
        "### Use Dict Comprehensionn for frequency count"
      ],
      "metadata": {
        "id": "Y8iyMS8UsuLn"
      }
    },
    {
      "cell_type": "markdown",
      "source": [
        "- Prompt the user for a line of text.\n",
        "- Use dict comprehension to count the number of occurences of each characerter.\n",
        "- Example: \"aabbccccc\" should give {'a': 2, 'b': 2, 'c': 5}\n",
        "- HINT: using count('a') on a string will return the number of occurences of 'a'."
      ],
      "metadata": {
        "id": "S4VoFvW5s4jq"
      }
    },
    {
      "cell_type": "code",
      "source": [
        "text = input(\"Type Something \")\n",
        "{i : text.count(i) for i in text}"
      ],
      "metadata": {
        "colab": {
          "base_uri": "https://localhost:8080/"
        },
        "id": "mESdOMLjs7hb",
        "outputId": "4dfbf2ed-32bf-4993-c788-006b378c8b70"
      },
      "execution_count": 9,
      "outputs": [
        {
          "name": "stdout",
          "output_type": "stream",
          "text": [
            "Type Something abra ka dabra\n"
          ]
        },
        {
          "output_type": "execute_result",
          "data": {
            "text/plain": [
              "{'a': 5, 'b': 2, 'r': 2, ' ': 2, 'k': 1, 'd': 1}"
            ]
          },
          "metadata": {},
          "execution_count": 9
        }
      ]
    },
    {
      "cell_type": "code",
      "source": [
        "text = input(\"Type Something \")\n",
        "{i : text.count(i) for i in set(text)}"
      ],
      "metadata": {
        "colab": {
          "base_uri": "https://localhost:8080/"
        },
        "id": "p9PrpT-6takP",
        "outputId": "ba8960dd-b2a3-45c0-fe4b-e16740c9bfa8"
      },
      "execution_count": 10,
      "outputs": [
        {
          "name": "stdout",
          "output_type": "stream",
          "text": [
            "Type Something abra ka dabra\n"
          ]
        },
        {
          "output_type": "execute_result",
          "data": {
            "text/plain": [
              "{'k': 1, 'a': 5, 'b': 2, 'd': 1, 'r': 2, ' ': 2}"
            ]
          },
          "metadata": {},
          "execution_count": 10
        }
      ]
    }
  ]
}