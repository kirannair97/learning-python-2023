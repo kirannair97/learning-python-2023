{
  "nbformat": 4,
  "nbformat_minor": 0,
  "metadata": {
    "colab": {
      "provenance": [],
      "authorship_tag": "ABX9TyOlCIR8NyZF01acMKZrlUv9",
      "include_colab_link": true
    },
    "kernelspec": {
      "name": "python3",
      "display_name": "Python 3"
    },
    "language_info": {
      "name": "python"
    }
  },
  "cells": [
    {
      "cell_type": "markdown",
      "metadata": {
        "id": "view-in-github",
        "colab_type": "text"
      },
      "source": [
        "<a href=\"https://colab.research.google.com/github/kirannair97/learning-python-2023/blob/main/P9_Capitals_and__Frequency_Count.ipynb\" target=\"_parent\"><img src=\"https://colab.research.google.com/assets/colab-badge.svg\" alt=\"Open In Colab\"/></a>"
      ]
    },
    {
      "cell_type": "markdown",
      "source": [
        "# Project: Capitals and Frequency Count"
      ],
      "metadata": {
        "id": "Yp87e_FbF2jz"
      }
    },
    {
      "cell_type": "markdown",
      "source": [
        "### Goal\n",
        "\n",
        "1.   Guess a Capital Game\n",
        "2.   Calcuate Frequency Count"
      ],
      "metadata": {
        "id": "sc2FM4V5LCeW"
      }
    },
    {
      "cell_type": "markdown",
      "source": [
        "### Description of Guess a Capital Game\n",
        "- Use a dictionary to keep country-capital pairs as key-value.\n",
        "    - {'France': 'Paris', 'Finland': 'Helsinki', 'Sweden': 'Stockholm', 'Denmark': 'Copenhagen'}\n",
        "- Prompt the user 3 times for a capital in a country.\n",
        "- Print the number of correct capitals.\n",
        "- Feel free to print whether answer is correct, and what it is."
      ],
      "metadata": {
        "id": "M_5gTmJpLdjk"
      }
    },
    {
      "cell_type": "code",
      "source": [
        "import random"
      ],
      "metadata": {
        "id": "o02s32YCML7D"
      },
      "execution_count": null,
      "outputs": []
    },
    {
      "cell_type": "code",
      "source": [
        "capitals = {'France': 'Paris', 'Finland': 'Helsinki', 'Sweden': 'Stockholm', 'Denmark': 'Copenhagen'}\n",
        "\n",
        "score = 0\n",
        "\n",
        "for i in range(3):\n",
        "    country = random.choice(list(capitals.keys()))\n",
        "\n",
        "    answer = input(f\"What is the capital of {country}? \")\n",
        "\n",
        "    if answer.lower() == capitals[country].lower():\n",
        "        print(f\"Correct! The capital of {country} is {capitals[country]}!\")\n",
        "        score = score + 1\n",
        "    else:\n",
        "        print(f\"Incorrect! The capital of {country} is {capitals[country]}!\")\n",
        "\n",
        "print(f\"Your score: {score} / 3\")"
      ],
      "metadata": {
        "colab": {
          "base_uri": "https://localhost:8080/"
        },
        "id": "fAuo6TLdMXbD",
        "outputId": "2d64034c-ecf2-40df-b002-0b80dcb3621e"
      },
      "execution_count": null,
      "outputs": [
        {
          "output_type": "stream",
          "name": "stdout",
          "text": [
            "What is the capital of Denmark? Copenhagen\n",
            "Correct! The capital of Denmark is Copenhagen!\n",
            "What is the capital of Sweden? Stockholm\n",
            "Correct! The capital of Sweden is Stockholm!\n",
            "What is the capital of France? Paris\n",
            "Correct! The capital of France is Paris!\n",
            "Your score: 3 / 3\n"
          ]
        }
      ]
    },
    {
      "cell_type": "markdown",
      "source": [
        "### Description of Frequency Count\n",
        "- Prompt the user for a line of text\n",
        "- Use a dictionary to make frequency count of the letters.\n",
        "- Print the frequencies"
      ],
      "metadata": {
        "id": "6S5eng_WjNAt"
      }
    },
    {
      "cell_type": "code",
      "source": [
        "text = input(\"Type something: \")\n",
        "\n",
        "text = text.lower()\n",
        "\n",
        "freq = {}\n",
        "\n",
        "for i in text:\n",
        "  freq[i] = freq.get(i, 0) + 1\n",
        "\n",
        "for key, value in freq.items():\n",
        "  print(f\"{key} : {value}\")"
      ],
      "metadata": {
        "colab": {
          "base_uri": "https://localhost:8080/"
        },
        "id": "fnCTVS7pjcHm",
        "outputId": "5302b5ac-7c57-43c9-a67b-567ea7d2749a"
      },
      "execution_count": null,
      "outputs": [
        {
          "output_type": "stream",
          "name": "stdout",
          "text": [
            "Type something: What's up?\n",
            "w : 1\n",
            "h : 1\n",
            "a : 1\n",
            "t : 1\n",
            "' : 1\n",
            "s : 1\n",
            "  : 1\n",
            "u : 1\n",
            "p : 1\n",
            "? : 1\n"
          ]
        }
      ]
    }
  ]
}